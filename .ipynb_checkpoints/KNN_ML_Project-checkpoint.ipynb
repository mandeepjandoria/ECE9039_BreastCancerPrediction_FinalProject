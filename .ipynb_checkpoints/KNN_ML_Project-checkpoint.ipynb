{
 "cells": [
  {
   "cell_type": "code",
   "execution_count": 1,
   "metadata": {},
   "outputs": [],
   "source": [
    "import pandas as pd \n",
    "import os\n",
    "from sklearn.model_selection import train_test_split\n",
    "from sklearn.neighbors import KNeighborsClassifier\n",
    "import numpy\n",
    "from sklearn.metrics import accuracy_score\n",
    "from sklearn.metrics import confusion_matrix \n",
    "import numpy as np\n",
    "import pandas as pd\n",
    "import matplotlib.pyplot as plt\n",
    "from sklearn.preprocessing import StandardScaler as ss\n",
    "from sklearn.metrics import accuracy_score\n",
    "from sklearn.metrics import auc, roc_curve\n",
    "from sklearn.metrics import confusion_matrix\n",
    "from sklearn.metrics import precision_recall_fscore_support\n",
    "from sklearn.model_selection import train_test_split\n",
    "from sklearn.svm import SVC\n",
    "import operator\n",
    "import math\n",
    "from sklearn.metrics import f1_score\n",
    "import seaborn as sns\n",
    "from sklearn.preprocessing import StandardScaler\n",
    "from sklearn.model_selection import cross_val_score\n",
    "#https://www.youtube.com/watch?v=6dbrR-WymjI"
   ]
  },
  {
   "cell_type": "code",
   "execution_count": 2,
   "metadata": {},
   "outputs": [
    {
     "data": {
      "text/plain": [
       "0    1\n",
       "1    1\n",
       "2    1\n",
       "3    1\n",
       "4    1\n",
       "Name: diagnosis, dtype: int64"
      ]
     },
     "execution_count": 2,
     "metadata": {},
     "output_type": "execute_result"
    }
   ],
   "source": [
    "data=pd.read_csv('train_main.csv')\n",
    "x= data.iloc[:,2:32]\n",
    "x.head()\n",
    "y= data.iloc[:,1]\n",
    "y.replace('M', 1, inplace=True)\n",
    "y.replace('B', 0, inplace=True)\n",
    "y.head()\n"
   ]
  },
  {
   "cell_type": "code",
   "execution_count": 3,
   "metadata": {},
   "outputs": [],
   "source": [
    "x_train, x_test, y_train, y_test= train_test_split(x,y, test_size=0.2, random_state=42)"
   ]
  },
  {
   "cell_type": "code",
   "execution_count": 4,
   "metadata": {},
   "outputs": [],
   "source": [
    "# using knn classifier to predict the data\n",
    "kneighbors_knn = []\n",
    "cross_validate_knn_scores = []\n",
    "cross_validate_knn_scores_2 = []\n",
    "cross_validate_knn_scores_3 = []\n",
    "score_knn = []\n",
    "accuracy_knn = []\n",
    "confusion_mat_knn = []\n",
    "knn_y_prediction = []\n",
    "\n"
   ]
  },
  {
   "cell_type": "code",
   "execution_count": 5,
   "metadata": {},
   "outputs": [],
   "source": [
    "for i in range(1, 50, 2):\n",
    "        # applying classifier at different i\n",
    "        kneighbors_knn.append(i)\n",
    "        knn_1 = KNeighborsClassifier(n_neighbors=i)\n",
    "        knn_1.fit(x_train, y_train)\n",
    "        predict_knn_1 = knn_1.predict(x_test)\n",
    "        knn_y_prediction.append(predict_knn_1)\n",
    "\n",
    "        # finding the accuracy of the classifier each time the vlaue of i/K neighbour changes.\n",
    "        accuracy_knn.append(accuracy_score(y_test, knn_1.predict(x_test)))\n",
    "        scorees = knn_1.score(x_test, y_test)\n",
    "\n",
    "        # Using confusion matrix to observe the falseness and correctness of the predicted results\n",
    "        cm = confusion_matrix(y_test, predict_knn_1)\n",
    "        # storing different confusion matrix in one list\n",
    "        confusion_mat_knn.append(cm)\n",
    "        score_knn.append(scorees)\n",
    "\n",
    "        # cross validate the correct value of k\n",
    "        scores = cross_val_score(knn_1, x_train, y_train, cv=10, scoring='accuracy')\n",
    "        cross_validate_knn_scores.append(scores.mean())\n",
    "        scores_2 = cross_val_score(knn_1, x_train, y_train, cv=15, scoring='accuracy')\n",
    "        cross_validate_knn_scores_2.append(scores_2.mean())\n",
    "        scores_3 = cross_val_score(knn_1, x_train, y_train, cv=20, scoring='accuracy')\n",
    "        cross_validate_knn_scores_3.append(scores_3.mean())"
   ]
  },
  {
   "cell_type": "code",
   "execution_count": 7,
   "metadata": {},
   "outputs": [
    {
     "data": {
      "image/png": "[encoded data removed]",
      "text/plain": [
       "<Figure size 360x360 with 1 Axes>"
      ]
     },
     "metadata": {
      "needs_background": "light"
     },
     "output_type": "display_data"
    }
   ],
   "source": [
    "knn_range = range(1, 50, 2)\n",
    "figure_4 = plt.figure(figsize=(5, 5))\n",
    "plt.title('Relation between K and corresponding accuracy of KNN model', fontsize=20)\n",
    "plt.plot(knn_range, accuracy_knn,color='#4b0082')\n",
    "plt.xlabel('Value of K for KNN')\n",
    "plt.ylabel(' Accuracy')\n",
    "#plt.show()\n",
    "# plt.savefig(r'C:\\Users\\Ren\\Desktop\\Test2_fig5_accuracy.png')\n",
    "c = ((accuracy_knn.index(max(accuracy_knn))) * 2) + 1\n",
    "KNN_Classifier_Cancer = KNeighborsClassifier(n_neighbors=c, metric='minkowski', p=2)\n",
    "KNN_Classifier_Cancer.fit(x_train, y_train)\n",
    "KNN_y_pred = KNN_Classifier_Cancer.predict(x_test)\n",
    "score_Knn_cancer = KNN_Classifier_Cancer.score(x_test, y_test)"
   ]
  },
  {
   "cell_type": "code",
   "execution_count": null,
   "metadata": {},
   "outputs": [],
   "source": [
    "KNN_Confusion_Matrix = confusion_matrix(y_test,KNN_y_pred)\n",
    "print('\\nConfusion Matrix for KNN\\n', KNN_Confusion_Matrix)\n",
    "KNN_True_Positive = KNN_Confusion_Matrix[0][0]\n",
    "KNN_True_Negative = KNN_Confusion_Matrix[1][1]\n",
    "KNN_False_Positive = KNN_Confusion_Matrix[0][1]\n",
    "KNN_False_Negative = KNN_Confusion_Matrix[1][0]"
   ]
  },
  {
   "cell_type": "code",
   "execution_count": null,
   "metadata": {},
   "outputs": [],
   "source": [
    "KNN_accuracy = (KNN_True_Positive + KNN_True_Negative) / (KNN_True_Positive + KNN_True_Negative + KNN_False_Positive + KNN_False_Negative)\n",
    "precision_knn =KNN_True_Positive / (KNN_True_Positive + KNN_False_Positive)"
   ]
  },
  {
   "cell_type": "code",
   "execution_count": null,
   "metadata": {},
   "outputs": [],
   "source": [
    "figure_5 = plt.figure(figsize=(10, 10))\n",
    "sns.heatmap(KNN_Confusion_Matrix, annot=True, cmap='YlOrRd')\n",
    "plt.title('Confusion Matrix for KNN Classifier', fontsize=20)\n",
    "x, y = plt.ylim()  # get the values for bottom and top\n",
    "x += 0.75  # Add 0.5 to the bottom\n",
    "y -= 0.75  # Subtract 0.5 from the top\n",
    "plt.ylim(x, y)\n",
    "plt.show()\n",
    "figure_5 = plt.savefig(r'C:\\Users\\Ren\\Desktop\\Test2_fig6_knn_confusionMatrix.png')"
   ]
  },
  {
   "cell_type": "code",
   "execution_count": null,
   "metadata": {},
   "outputs": [],
   "source": [
    "print(KNN_accuracy,precision_knn,c,KNN_Confusion_Matrix) "
   ]
  },
  {
   "cell_type": "code",
   "execution_count": null,
   "metadata": {},
   "outputs": [],
   "source": []
  }
 ],
 "metadata": {
  "kernelspec": {
   "display_name": "Python 3",
   "language": "python",
   "name": "python3"
  },
  "language_info": {
   "codemirror_mode": {
    "name": "ipython",
    "version": 3
   },
   "file_extension": ".py",
   "mimetype": "text/x-python",
   "name": "python",
   "nbconvert_exporter": "python",
   "pygments_lexer": "ipython3",
   "version": "3.7.6"
  }
 },
 "nbformat": 4,
 "nbformat_minor": 4
}
